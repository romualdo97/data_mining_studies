{
 "cells": [
  {
   "cell_type": "markdown",
   "metadata": {},
   "source": [
    "# Aplicar los algoritmos en distintos archivos\n",
    "Aplicar los algoritmos de machine learnign en archivos con distinta preparacion"
   ]
  },
  {
   "cell_type": "code",
   "execution_count": 76,
   "metadata": {},
   "outputs": [],
   "source": [
    "library(caret)\n",
    "library(e1071)"
   ]
  },
  {
   "cell_type": "code",
   "execution_count": 6,
   "metadata": {},
   "outputs": [],
   "source": [
    "numeric_cleaned = \"1_drugs_numeric_cleaned.csv\"\n",
    "smoothed = \"2_drugs_smoothed.csv\"\n",
    "discretized = \"3_drugs_discretized.csv\""
   ]
  },
  {
   "cell_type": "code",
   "execution_count": 25,
   "metadata": {},
   "outputs": [
    {
     "data": {
      "text/html": [
       "<table>\n",
       "<thead><tr><th scope=col>Age</th><th scope=col>Sex</th><th scope=col>Blood_Pressure</th><th scope=col>Cholesterol</th><th scope=col>Na</th><th scope=col>K</th><th scope=col>Drug</th></tr></thead>\n",
       "<tbody>\n",
       "\t<tr><td>23      </td><td>F       </td><td>HIGH    </td><td>HIGH    </td><td>0.792535</td><td>0.031258</td><td>drugY   </td></tr>\n",
       "\t<tr><td>47      </td><td>M       </td><td>LOW     </td><td>HIGH    </td><td>0.739309</td><td>0.056468</td><td>drugC   </td></tr>\n",
       "\t<tr><td>47      </td><td>M       </td><td>LOW     </td><td>HIGH    </td><td>0.697269</td><td>0.068944</td><td>drugC   </td></tr>\n",
       "\t<tr><td>28      </td><td>F       </td><td>NORMAL  </td><td>HIGH    </td><td>0.563682</td><td>0.072289</td><td>drugX   </td></tr>\n",
       "\t<tr><td>61      </td><td>F       </td><td>LOW     </td><td>HIGH    </td><td>0.559294</td><td>0.030998</td><td>drugY   </td></tr>\n",
       "\t<tr><td>22      </td><td>F       </td><td>NORMAL  </td><td>HIGH    </td><td>0.676901</td><td>0.078647</td><td>drugX   </td></tr>\n",
       "</tbody>\n",
       "</table>\n"
      ],
      "text/latex": [
       "\\begin{tabular}{r|lllllll}\n",
       " Age & Sex & Blood\\_Pressure & Cholesterol & Na & K & Drug\\\\\n",
       "\\hline\n",
       "\t 23       & F        & HIGH     & HIGH     & 0.792535 & 0.031258 & drugY   \\\\\n",
       "\t 47       & M        & LOW      & HIGH     & 0.739309 & 0.056468 & drugC   \\\\\n",
       "\t 47       & M        & LOW      & HIGH     & 0.697269 & 0.068944 & drugC   \\\\\n",
       "\t 28       & F        & NORMAL   & HIGH     & 0.563682 & 0.072289 & drugX   \\\\\n",
       "\t 61       & F        & LOW      & HIGH     & 0.559294 & 0.030998 & drugY   \\\\\n",
       "\t 22       & F        & NORMAL   & HIGH     & 0.676901 & 0.078647 & drugX   \\\\\n",
       "\\end{tabular}\n"
      ],
      "text/markdown": [
       "\n",
       "Age | Sex | Blood_Pressure | Cholesterol | Na | K | Drug | \n",
       "|---|---|---|---|---|---|\n",
       "| 23       | F        | HIGH     | HIGH     | 0.792535 | 0.031258 | drugY    | \n",
       "| 47       | M        | LOW      | HIGH     | 0.739309 | 0.056468 | drugC    | \n",
       "| 47       | M        | LOW      | HIGH     | 0.697269 | 0.068944 | drugC    | \n",
       "| 28       | F        | NORMAL   | HIGH     | 0.563682 | 0.072289 | drugX    | \n",
       "| 61       | F        | LOW      | HIGH     | 0.559294 | 0.030998 | drugY    | \n",
       "| 22       | F        | NORMAL   | HIGH     | 0.676901 | 0.078647 | drugX    | \n",
       "\n",
       "\n"
      ],
      "text/plain": [
       "  Age Sex Blood_Pressure Cholesterol Na       K        Drug \n",
       "1 23  F   HIGH           HIGH        0.792535 0.031258 drugY\n",
       "2 47  M   LOW            HIGH        0.739309 0.056468 drugC\n",
       "3 47  M   LOW            HIGH        0.697269 0.068944 drugC\n",
       "4 28  F   NORMAL         HIGH        0.563682 0.072289 drugX\n",
       "5 61  F   LOW            HIGH        0.559294 0.030998 drugY\n",
       "6 22  F   NORMAL         HIGH        0.676901 0.078647 drugX"
      ]
     },
     "metadata": {},
     "output_type": "display_data"
    }
   ],
   "source": [
    "nc_dat = read.csv(numeric_cleaned,  header = TRUE)\n",
    "sm_dat = read.csv(smoothed,  header = TRUE)\n",
    "dc_dat = read.csv(discretized,  header = TRUE)\n",
    "head(nc_dat)"
   ]
  },
  {
   "cell_type": "markdown",
   "metadata": {},
   "source": [
    "# Dividiendo los datos\n",
    "Dividiendo los datos para entrenamiento y pruebas usando caret."
   ]
  },
  {
   "cell_type": "code",
   "execution_count": 29,
   "metadata": {},
   "outputs": [
    {
     "data": {
      "text/plain": [
       "\n",
       "drugA drugB drugC drugX drugY \n",
       "   22    16    16    53    91 "
      ]
     },
     "metadata": {},
     "output_type": "display_data"
    },
    {
     "data": {
      "text/plain": [
       "\n",
       "drugA drugB drugC drugX drugY \n",
       "   17    12    12    40    69 "
      ]
     },
     "metadata": {},
     "output_type": "display_data"
    },
    {
     "data": {
      "text/plain": [
       "\n",
       "drugA drugB drugC drugX drugY \n",
       "    5     4     4    13    22 "
      ]
     },
     "metadata": {},
     "output_type": "display_data"
    }
   ],
   "source": [
    "set.seed(300)\n",
    "nc_indxTrain <- createDataPartition(y = nc_dat$Drug, p = 0.75, list = FALSE)\n",
    "nc_training <- nc_dat[nc_indxTrain,] # devuelve las filas en nc_indxTrain (similar a un roi)\n",
    "nc_testing <- nc_dat[-nc_indxTrain,] # devuelve todas las filas que no esten en nc_indxTrain\n",
    "table(nc_dat$Drug)\n",
    "table(nc_training$Drug)\n",
    "table(nc_testing$Drug)"
   ]
  },
  {
   "cell_type": "markdown",
   "metadata": {},
   "source": [
    "# Aplicando kNN a \"numeric cleaned\"\n",
    "kNN necesita que las datos esten normalizados"
   ]
  },
  {
   "cell_type": "code",
   "execution_count": 46,
   "metadata": {},
   "outputs": [
    {
     "data": {
      "text/plain": [
       "Created from 150 samples and 6 variables\n",
       "\n",
       "Pre-processing:\n",
       "  - centered (3)\n",
       "  - ignored (3)\n",
       "  - scaled (3)\n"
      ]
     },
     "metadata": {},
     "output_type": "display_data"
    }
   ],
   "source": [
    "cols <- names(nc_training)\n",
    "nc_trainX <- nc_training[, cols != \"Drug\"] # selecciona tdoso los datos de entrenamiento exceptuando la columna Drug\n",
    "nc_preProcValue <- preProcess(x = nc_trainX, method = c(\"center\", \"scale\"), tuneLength = 20)\n",
    "nc_preProcValue"
   ]
  },
  {
   "cell_type": "markdown",
   "metadata": {},
   "source": [
    "Entrenando el sistema:"
   ]
  },
  {
   "cell_type": "code",
   "execution_count": 58,
   "metadata": {},
   "outputs": [
    {
     "data": {
      "text/plain": [
       "k-Nearest Neighbors \n",
       "\n",
       "150 samples\n",
       "  6 predictor\n",
       "  5 classes: 'drugA', 'drugB', 'drugC', 'drugX', 'drugY' \n",
       "\n",
       "Pre-processing: centered (7), scaled (7) \n",
       "Resampling: Cross-Validated (10 fold, repeated 3 times) \n",
       "Summary of sample sizes: 135, 135, 136, 135, 136, 133, ... \n",
       "Resampling results across tuning parameters:\n",
       "\n",
       "  k  Accuracy   Kappa    \n",
       "  5  0.7570343  0.6457641\n",
       "  7  0.7797958  0.6717484\n",
       "  9  0.8097759  0.7146852\n",
       "\n",
       "Accuracy was used to select the optimal model using the largest value.\n",
       "The final value used for the model was k = 9."
      ]
     },
     "metadata": {},
     "output_type": "display_data"
    }
   ],
   "source": [
    "set.seed(500)\n",
    "ctrl <- trainControl(method = \"repeatedcv\", repeats = 3) # repeatedcv is repeated cross validation\n",
    "knnFit <- train(Drug ~ ., data = nc_training, method = \"knn\", trControl = ctrl, preProcess = c(\"center\", \"scale\"))\n",
    "knnFit"
   ]
  },
  {
   "cell_type": "markdown",
   "metadata": {},
   "source": [
    "graficando **number of neighbors** vs **accuracy**"
   ]
  },
  {
   "cell_type": "code",
   "execution_count": 60,
   "metadata": {},
   "outputs": [
    {
     "data": {},
     "metadata": {},
     "output_type": "display_data"
    },
    {
     "data": {
      "image/png": "[encoded data removed]",
      "text/plain": [
       "plot without title"
      ]
     },
     "metadata": {},
     "output_type": "display_data",
     "source": "R display func"
    }
   ],
   "source": [
    "plot(knnFit)"
   ]
  },
  {
   "cell_type": "markdown",
   "metadata": {},
   "source": [
    "Ahora vamos a probar el modelo con los datos de prueba para mostrar la matriz de confusion asi, como otra informacion estadistica."
   ]
  },
  {
   "cell_type": "code",
   "execution_count": 64,
   "metadata": {},
   "outputs": [
    {
     "data": {
      "text/plain": [
       "Confusion Matrix and Statistics\n",
       "\n",
       "          Reference\n",
       "Prediction drugA drugB drugC drugX drugY\n",
       "     drugA     3     1     0     0     1\n",
       "     drugB     1     3     0     1     3\n",
       "     drugC     0     0     2     0     0\n",
       "     drugX     0     0     0    12     3\n",
       "     drugY     1     0     2     0    15\n",
       "\n",
       "Overall Statistics\n",
       "                                          \n",
       "               Accuracy : 0.7292          \n",
       "                 95% CI : (0.5815, 0.8472)\n",
       "    No Information Rate : 0.4583          \n",
       "    P-Value [Acc > NIR] : 0.0001307       \n",
       "                                          \n",
       "                  Kappa : 0.6214          \n",
       " Mcnemar's Test P-Value : NA              \n",
       "\n",
       "Statistics by Class:\n",
       "\n",
       "                     Class: drugA Class: drugB Class: drugC Class: drugX\n",
       "Sensitivity                0.6000      0.75000      0.50000       0.9231\n",
       "Specificity                0.9535      0.88636      1.00000       0.9143\n",
       "Pos Pred Value             0.6000      0.37500      1.00000       0.8000\n",
       "Neg Pred Value             0.9535      0.97500      0.95652       0.9697\n",
       "Prevalence                 0.1042      0.08333      0.08333       0.2708\n",
       "Detection Rate             0.0625      0.06250      0.04167       0.2500\n",
       "Detection Prevalence       0.1042      0.16667      0.04167       0.3125\n",
       "Balanced Accuracy          0.7767      0.81818      0.75000       0.9187\n",
       "                     Class: drugY\n",
       "Sensitivity                0.6818\n",
       "Specificity                0.8846\n",
       "Pos Pred Value             0.8333\n",
       "Neg Pred Value             0.7667\n",
       "Prevalence                 0.4583\n",
       "Detection Rate             0.3125\n",
       "Detection Prevalence       0.3750\n",
       "Balanced Accuracy          0.7832"
      ]
     },
     "metadata": {},
     "output_type": "display_data"
    }
   ],
   "source": [
    "knnPredict <- predict(knnFit, newdata = nc_testing)\n",
    "confusionMatrix(knnPredict, nc_testing$Drug)"
   ]
  },
  {
   "cell_type": "code",
   "execution_count": 77,
   "metadata": {},
   "outputs": [
    {
     "data": {
      "text/html": [
       "0.729166666666667"
      ],
      "text/latex": [
       "0.729166666666667"
      ],
      "text/markdown": [
       "0.729166666666667"
      ],
      "text/plain": [
       "[1] 0.7291667"
      ]
     },
     "metadata": {},
     "output_type": "display_data"
    }
   ],
   "source": [
    "mean(knnPredict == nc_testing$Drug)"
   ]
  },
  {
   "cell_type": "markdown",
   "metadata": {},
   "source": [
    "# Aplicando Random Forest a \"numeric cleaned\""
   ]
  },
  {
   "cell_type": "code",
   "execution_count": null,
   "metadata": {},
   "outputs": [],
   "source": [
    "rfFit <- train(Drug ~ ., data = nc_training, method = \"rf\", trControl = ctrl, preProcess = c(\"center\", \"scale\"))"
   ]
  }
 ],
 "metadata": {
  "kernelspec": {
   "display_name": "R",
   "language": "R",
   "name": "ir"
  },
  "language_info": {
   "codemirror_mode": "r",
   "file_extension": ".r",
   "mimetype": "text/x-r-source",
   "name": "R",
   "pygments_lexer": "r",
   "version": "3.4.3"
  }
 },
 "nbformat": 4,
 "nbformat_minor": 2
}
