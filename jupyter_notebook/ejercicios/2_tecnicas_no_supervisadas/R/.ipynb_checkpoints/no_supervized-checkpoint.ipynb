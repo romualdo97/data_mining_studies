{
 "cells": [
  {
   "cell_type": "markdown",
   "metadata": {},
   "source": [
    "# Cargar datos"
   ]
  },
  {
   "cell_type": "raw",
   "metadata": {},
   "source": [
    "# cargar datos en forma csv o arf aqui"
   ]
  },
  {
   "cell_type": "code",
   "execution_count": 50,
   "metadata": {},
   "outputs": [],
   "source": [
    "library(\"RWeka\")\n",
    "library(\"RWekajars\")\n",
    "library(\"rJava\")"
   ]
  },
  {
   "cell_type": "code",
   "execution_count": 81,
   "metadata": {},
   "outputs": [
    {
     "data": {
      "text/html": [
       "<table>\n",
       "<thead><tr><th scope=col>checking_status</th><th scope=col>duration</th><th scope=col>credit_history</th><th scope=col>purpose</th><th scope=col>credit_amount</th><th scope=col>savings_status</th><th scope=col>employment</th><th scope=col>installment_commitment</th><th scope=col>personal_status</th><th scope=col>other_parties</th><th scope=col>⋯</th><th scope=col>property_magnitude</th><th scope=col>age</th><th scope=col>other_payment_plans</th><th scope=col>housing</th><th scope=col>existing_credits</th><th scope=col>job</th><th scope=col>num_dependents</th><th scope=col>own_telephone</th><th scope=col>foreign_worker</th><th scope=col>class</th></tr></thead>\n",
       "<tbody>\n",
       "\t<tr><td><span style=white-space:pre-wrap>&lt;0         </span>     </td><td> 6                                                         </td><td>critical/other existing credit                             </td><td><span style=white-space:pre-wrap>radio/tv           </span></td><td>1169                                                       </td><td>no known savings                                           </td><td><span style=white-space:pre-wrap>&gt;=7   </span>          </td><td>4                                                          </td><td><span style=white-space:pre-wrap>male single       </span> </td><td><span style=white-space:pre-wrap>none     </span>          </td><td>⋯                                                          </td><td><span style=white-space:pre-wrap>real estate      </span>  </td><td>67                                                         </td><td>none                                                       </td><td><span style=white-space:pre-wrap>own     </span>           </td><td>2                                                          </td><td><span style=white-space:pre-wrap>skilled           </span> </td><td>1                                                          </td><td>yes                                                        </td><td>yes                                                        </td><td>good                                                       </td></tr>\n",
       "\t<tr><td><span style=white-space:pre-wrap>0&lt;=X&lt;200   </span>             </td><td>48                                                                    </td><td><span style=white-space:pre-wrap>existing paid                 </span></td><td><span style=white-space:pre-wrap>radio/tv           </span>           </td><td>5951                                                                  </td><td><span style=white-space:pre-wrap>&lt;100            </span>           </td><td>1&lt;=X&lt;4                                                          </td><td>2                                                                     </td><td>female div/dep/mar                                                    </td><td><span style=white-space:pre-wrap>none     </span>                     </td><td>⋯                                                                     </td><td><span style=white-space:pre-wrap>real estate      </span>             </td><td>22                                                                    </td><td>none                                                                  </td><td><span style=white-space:pre-wrap>own     </span>                      </td><td>1                                                                     </td><td><span style=white-space:pre-wrap>skilled           </span>            </td><td>1                                                                     </td><td>none                                                                  </td><td>yes                                                                   </td><td>bad                                                                   </td></tr>\n",
       "\t<tr><td>no checking                                                </td><td>12                                                         </td><td>critical/other existing credit                             </td><td><span style=white-space:pre-wrap>education          </span></td><td>2096                                                       </td><td><span style=white-space:pre-wrap>&lt;100            </span></td><td>4&lt;=X&lt;7                                               </td><td>2                                                          </td><td><span style=white-space:pre-wrap>male single       </span> </td><td><span style=white-space:pre-wrap>none     </span>          </td><td>⋯                                                          </td><td><span style=white-space:pre-wrap>real estate      </span>  </td><td>49                                                         </td><td>none                                                       </td><td><span style=white-space:pre-wrap>own     </span>           </td><td>1                                                          </td><td>unskilled resident                                         </td><td>2                                                          </td><td>none                                                       </td><td>yes                                                        </td><td>good                                                       </td></tr>\n",
       "\t<tr><td><span style=white-space:pre-wrap>&lt;0         </span>                </td><td>42                                                                    </td><td><span style=white-space:pre-wrap>existing paid                 </span></td><td>furniture/equipment                                                   </td><td>7882                                                                  </td><td><span style=white-space:pre-wrap>&lt;100            </span>           </td><td>4&lt;=X&lt;7                                                          </td><td>2                                                                     </td><td><span style=white-space:pre-wrap>male single       </span>            </td><td>guarantor                                                             </td><td>⋯                                                                     </td><td><span style=white-space:pre-wrap>life insurance   </span>             </td><td>45                                                                    </td><td>none                                                                  </td><td>for free                                                              </td><td>1                                                                     </td><td><span style=white-space:pre-wrap>skilled           </span>            </td><td>2                                                                     </td><td>none                                                                  </td><td>yes                                                                   </td><td>good                                                                  </td></tr>\n",
       "\t<tr><td><span style=white-space:pre-wrap>&lt;0         </span>                </td><td>24                                                                    </td><td><span style=white-space:pre-wrap>delayed previously            </span></td><td><span style=white-space:pre-wrap>new car            </span>           </td><td>4870                                                                  </td><td><span style=white-space:pre-wrap>&lt;100            </span>           </td><td>1&lt;=X&lt;4                                                          </td><td>3                                                                     </td><td><span style=white-space:pre-wrap>male single       </span>            </td><td><span style=white-space:pre-wrap>none     </span>                     </td><td>⋯                                                                     </td><td>no known property                                                     </td><td>53                                                                    </td><td>none                                                                  </td><td>for free                                                              </td><td>2                                                                     </td><td><span style=white-space:pre-wrap>skilled           </span>            </td><td>2                                                                     </td><td>none                                                                  </td><td>yes                                                                   </td><td>bad                                                                   </td></tr>\n",
       "\t<tr><td>no checking                                                           </td><td>36                                                                    </td><td><span style=white-space:pre-wrap>existing paid                 </span></td><td><span style=white-space:pre-wrap>education          </span>           </td><td>9055                                                                  </td><td>no known savings                                                      </td><td>1&lt;=X&lt;4                                                          </td><td>2                                                                     </td><td><span style=white-space:pre-wrap>male single       </span>            </td><td><span style=white-space:pre-wrap>none     </span>                     </td><td>⋯                                                                     </td><td>no known property                                                     </td><td>35                                                                    </td><td>none                                                                  </td><td>for free                                                              </td><td>1                                                                     </td><td>unskilled resident                                                    </td><td>2                                                                     </td><td>yes                                                                   </td><td>yes                                                                   </td><td>good                                                                  </td></tr>\n",
       "</tbody>\n",
       "</table>\n"
      ],
      "text/latex": [
       "\\begin{tabular}{r|lllllllllllllllllllll}\n",
       " checking\\_status & duration & credit\\_history & purpose & credit\\_amount & savings\\_status & employment & installment\\_commitment & personal\\_status & other\\_parties & ⋯ & property\\_magnitude & age & other\\_payment\\_plans & housing & existing\\_credits & job & num\\_dependents & own\\_telephone & foreign\\_worker & class\\\\\n",
       "\\hline\n",
       "\t <0                             &  6                             & critical/other existing credit & radio/tv                       & 1169                           & no known savings               & >=7                            & 4                              & male single                    & none                           & ⋯                              & real estate                    & 67                             & none                           & own                            & 2                              & skilled                        & 1                              & yes                            & yes                            & good                          \\\\\n",
       "\t 0<=X<200                       & 48                             & existing paid                  & radio/tv                       & 5951                           & <100                           & 1<=X<4                         & 2                              & female div/dep/mar             & none                           & ⋯                              & real estate                    & 22                             & none                           & own                            & 1                              & skilled                        & 1                              & none                           & yes                            & bad                           \\\\\n",
       "\t no checking                    & 12                             & critical/other existing credit & education                      & 2096                           & <100                           & 4<=X<7                         & 2                              & male single                    & none                           & ⋯                              & real estate                    & 49                             & none                           & own                            & 1                              & unskilled resident             & 2                              & none                           & yes                            & good                          \\\\\n",
       "\t <0                             & 42                             & existing paid                  & furniture/equipment            & 7882                           & <100                           & 4<=X<7                         & 2                              & male single                    & guarantor                      & ⋯                              & life insurance                 & 45                             & none                           & for free                       & 1                              & skilled                        & 2                              & none                           & yes                            & good                          \\\\\n",
       "\t <0                             & 24                             & delayed previously             & new car                        & 4870                           & <100                           & 1<=X<4                         & 3                              & male single                    & none                           & ⋯                              & no known property              & 53                             & none                           & for free                       & 2                              & skilled                        & 2                              & none                           & yes                            & bad                           \\\\\n",
       "\t no checking                    & 36                             & existing paid                  & education                      & 9055                           & no known savings               & 1<=X<4                         & 2                              & male single                    & none                           & ⋯                              & no known property              & 35                             & none                           & for free                       & 1                              & unskilled resident             & 2                              & yes                            & yes                            & good                          \\\\\n",
       "\\end{tabular}\n"
      ],
      "text/markdown": [
       "\n",
       "checking_status | duration | credit_history | purpose | credit_amount | savings_status | employment | installment_commitment | personal_status | other_parties | ⋯ | property_magnitude | age | other_payment_plans | housing | existing_credits | job | num_dependents | own_telephone | foreign_worker | class | \n",
       "|---|---|---|---|---|---|\n",
       "| <0                             |  6                             | critical/other existing credit | radio/tv                       | 1169                           | no known savings               | >=7                            | 4                              | male single                    | none                           | ⋯                              | real estate                    | 67                             | none                           | own                            | 2                              | skilled                        | 1                              | yes                            | yes                            | good                           | \n",
       "| 0<=X<200                       | 48                             | existing paid                  | radio/tv                       | 5951                           | <100                           | 1<=X<4                         | 2                              | female div/dep/mar             | none                           | ⋯                              | real estate                    | 22                             | none                           | own                            | 1                              | skilled                        | 1                              | none                           | yes                            | bad                            | \n",
       "| no checking                    | 12                             | critical/other existing credit | education                      | 2096                           | <100                           | 4<=X<7                         | 2                              | male single                    | none                           | ⋯                              | real estate                    | 49                             | none                           | own                            | 1                              | unskilled resident             | 2                              | none                           | yes                            | good                           | \n",
       "| <0                             | 42                             | existing paid                  | furniture/equipment            | 7882                           | <100                           | 4<=X<7                         | 2                              | male single                    | guarantor                      | ⋯                              | life insurance                 | 45                             | none                           | for free                       | 1                              | skilled                        | 2                              | none                           | yes                            | good                           | \n",
       "| <0                             | 24                             | delayed previously             | new car                        | 4870                           | <100                           | 1<=X<4                         | 3                              | male single                    | none                           | ⋯                              | no known property              | 53                             | none                           | for free                       | 2                              | skilled                        | 2                              | none                           | yes                            | bad                            | \n",
       "| no checking                    | 36                             | existing paid                  | education                      | 9055                           | no known savings               | 1<=X<4                         | 2                              | male single                    | none                           | ⋯                              | no known property              | 35                             | none                           | for free                       | 1                              | unskilled resident             | 2                              | yes                            | yes                            | good                           | \n",
       "\n",
       "\n"
      ],
      "text/plain": [
       "  checking_status duration credit_history                 purpose            \n",
       "1 <0               6       critical/other existing credit radio/tv           \n",
       "2 0<=X<200        48       existing paid                  radio/tv           \n",
       "3 no checking     12       critical/other existing credit education          \n",
       "4 <0              42       existing paid                  furniture/equipment\n",
       "5 <0              24       delayed previously             new car            \n",
       "6 no checking     36       existing paid                  education          \n",
       "  credit_amount savings_status   employment installment_commitment\n",
       "1 1169          no known savings >=7        4                     \n",
       "2 5951          <100             1<=X<4     2                     \n",
       "3 2096          <100             4<=X<7     2                     \n",
       "4 7882          <100             4<=X<7     2                     \n",
       "5 4870          <100             1<=X<4     3                     \n",
       "6 9055          no known savings 1<=X<4     2                     \n",
       "  personal_status    other_parties ⋯ property_magnitude age other_payment_plans\n",
       "1 male single        none          ⋯ real estate        67  none               \n",
       "2 female div/dep/mar none          ⋯ real estate        22  none               \n",
       "3 male single        none          ⋯ real estate        49  none               \n",
       "4 male single        guarantor     ⋯ life insurance     45  none               \n",
       "5 male single        none          ⋯ no known property  53  none               \n",
       "6 male single        none          ⋯ no known property  35  none               \n",
       "  housing  existing_credits job                num_dependents own_telephone\n",
       "1 own      2                skilled            1              yes          \n",
       "2 own      1                skilled            1              none         \n",
       "3 own      1                unskilled resident 2              none         \n",
       "4 for free 1                skilled            2              none         \n",
       "5 for free 2                skilled            2              none         \n",
       "6 for free 1                unskilled resident 2              yes          \n",
       "  foreign_worker class\n",
       "1 yes            good \n",
       "2 yes            bad  \n",
       "3 yes            good \n",
       "4 yes            good \n",
       "5 yes            bad  \n",
       "6 yes            good "
      ]
     },
     "metadata": {},
     "output_type": "display_data"
    }
   ],
   "source": [
    "data <- read.arff(\"credit_g_smoothed.arff\")\n",
    "#write.table(data, file = \"foo.csv\", sep = \",\", col.names = NA, qmethod = \"double\")\n",
    "head(data)"
   ]
  },
  {
   "cell_type": "markdown",
   "metadata": {},
   "source": [
    "# Aplicando método particional | Simple K-means\n",
    "Aplicamos K-means de Weka."
   ]
  },
  {
   "cell_type": "raw",
   "metadata": {},
   "source": [
    "# aplicar kmeans\n",
    "# K-Means Clustering: https://stat.ethz.ch/R-manual/R-devel/library/stats/html/kmeans.html\n",
    "# K Means Clustering in R(*): https://datascienceplus.com/k-means-clustering-in-r/\n",
    "# RWeka pdf, clusterers(*) https://cran.r-project.org/web/packages/RWeka/RWeka.pdf"
   ]
  },
  {
   "cell_type": "markdown",
   "metadata": {},
   "source": [
    "Mostrar parametros configurables del K-means"
   ]
  },
  {
   "cell_type": "code",
   "execution_count": 34,
   "metadata": {},
   "outputs": [
    {
     "data": {
      "text/plain": [
       "-N <num>\n",
       "        Number of clusters.  (default 2).\n",
       "\tNumber of arguments: 1.\n",
       "-init   Initialization method to use.  0 = random, 1 = k-means++, 2 =\n",
       "        canopy, 3 = farthest first.  (default = 0)\n",
       "\tNumber of arguments: 1.\n",
       "-C      Use canopies to reduce the number of distance calculations.\n",
       "-max-candidates <num>\n",
       "        Maximum number of candidate canopies to retain in memory at any\n",
       "        one time when using canopy clustering.  T2 distance plus, data\n",
       "        characteristics, will determine how many candidate canopies are\n",
       "        formed before periodic and final pruning are performed, which\n",
       "        might result in exceess memory consumption. This setting avoids\n",
       "        large numbers of candidate canopies consuming memory. (default\n",
       "        = 100)\n",
       "\tNumber of arguments: 1.\n",
       "-periodic-pruning <num>\n",
       "        How often to prune low density canopies when using canopy\n",
       "        clustering.  (default = every 10,000 training instances)\n",
       "\tNumber of arguments: 1.\n",
       "-min-density\n",
       "        Minimum canopy density, when using canopy clustering, below\n",
       "        which a canopy will be pruned during periodic pruning. (default\n",
       "        = 2 instances)\n",
       "\tNumber of arguments: 1.\n",
       "-t2     The T2 distance to use when using canopy clustering. Values < 0\n",
       "        indicate that a heuristic based on attribute std. deviation\n",
       "        should be used to set this.  (default = -1.0)\n",
       "\tNumber of arguments: 1.\n",
       "-t1     The T1 distance to use when using canopy clustering. A value <\n",
       "        0 is taken as a positive multiplier for T2. (default = -1.5)\n",
       "\tNumber of arguments: 1.\n",
       "-V      Display std. deviations for centroids.\n",
       "-M      Don't replace missing values with mean/mode.\n",
       "-A <classname and options>\n",
       "        Distance function to use.  (default:\n",
       "        weka.core.EuclideanDistance)\n",
       "\tNumber of arguments: 1.\n",
       "-I <num>\n",
       "        Maximum number of iterations.\n",
       "\tNumber of arguments: 1.\n",
       "-O      Preserve order of instances.\n",
       "-fast   Enables faster distance calculations, using cut-off values.\n",
       "        Disables the calculation/output of squared errors/distances.\n",
       "-num-slots <num>\n",
       "        Number of execution slots.  (default 1 - i.e. no parallelism)\n",
       "\tNumber of arguments: 1.\n",
       "-S <num>\n",
       "        Random number seed.  (default 10)\n",
       "\tNumber of arguments: 1.\n",
       "-output-debug-info\n",
       "        If set, clusterer is run in debug mode and may output\n",
       "        additional info to the console\n",
       "-do-not-check-capabilities\n",
       "        If set, clusterer capabilities are not checked before clusterer\n",
       "        is built (use with caution)."
      ]
     },
     "metadata": {},
     "output_type": "display_data"
    }
   ],
   "source": [
    "WOW(SimpleKMeans)"
   ]
  },
  {
   "cell_type": "code",
   "execution_count": 22,
   "metadata": {},
   "outputs": [
    {
     "data": {
      "text/plain": [
       "\n",
       "kMeans\n",
       "======\n",
       "\n",
       "Number of iterations: 7\n",
       "Within cluster sum of squared errors: 6895.635252456921\n",
       "\n",
       "Initial starting points (random):\n",
       "\n",
       "Cluster 0: <0,24,'all paid','used car',3632,<100,1<=X<4,1,'female div/dep/mar',guarantor,4,car,22,bank,rent,1,skilled,1,none,no,good\n",
       "Cluster 1: 'no checking',18,'critical/other existing credit',radio/tv,1169,'no known savings',1<=X<4,4,'male single',none,3,'life insurance',29,none,own,2,skilled,1,yes,yes,good\n",
       "\n",
       "Missing values globally replaced with mean/mode\n",
       "\n",
       "Final cluster centroids:\n",
       "                                                               Cluster#\n",
       "Attribute                                  Full Data                  0                  1\n",
       "                                            (1300.0)            (610.0)            (690.0)\n",
       "==========================================================================================\n",
       "checking_status                                   <0                 <0        no checking\n",
       "duration                                     21.7011            23.8172            19.8303\n",
       "credit_history                         existing paid      existing paid      existing paid\n",
       "purpose                                      new car            new car           radio/tv\n",
       "credit_amount                              3423.9171          3941.2079          2966.6021\n",
       "savings_status                                  <100               <100               <100\n",
       "employment                                    1<=X<4             1<=X<4             1<=X<4\n",
       "installment_commitment                        2.9893             2.8922              3.075\n",
       "personal_status                          male single female div/dep/mar        male single\n",
       "other_parties                                   none               none               none\n",
       "residence_since                               2.8549             2.9414             2.7785\n",
       "property_magnitude                               car                car                car\n",
       "age                                          35.0794            33.6723            36.3235\n",
       "other_payment_plans                             none               none               none\n",
       "housing                                          own                own                own\n",
       "existing_credits                              1.3993             1.3432             1.4489\n",
       "job                                          skilled            skilled            skilled\n",
       "num_dependents                                1.1514             1.1082             1.1896\n",
       "own_telephone                                   none               none               none\n",
       "foreign_worker                                   yes                yes                yes\n",
       "class                                           good                bad               good\n",
       "\n",
       "\n"
      ]
     },
     "metadata": {},
     "output_type": "display_data"
    }
   ],
   "source": [
    "SimpleKMeans(data, control = NULL)"
   ]
  },
  {
   "cell_type": "markdown",
   "metadata": {},
   "source": [
    "# Aplicando método jerárquico | Cobweb"
   ]
  },
  {
   "cell_type": "raw",
   "metadata": {},
   "source": [
    "# [R] R Weka and cobweb https://stat.ethz.ch/pipermail/r-help/2007-August/138483.html\n",
    "# RWeka: R/Weka Interface https://cran.r-project.org/web/packages/RWeka/index.html\n",
    "# RWeka pdf, clusterers(*) https://cran.r-project.org/web/packages/RWeka/RWeka.pdf"
   ]
  },
  {
   "cell_type": "markdown",
   "metadata": {},
   "source": [
    "Mostrar parametros configurables del Cobweb"
   ]
  },
  {
   "cell_type": "code",
   "execution_count": 24,
   "metadata": {},
   "outputs": [
    {
     "data": {
      "text/plain": [
       "-A <acuity>\n",
       "        Acuity.  (default=1.0)\n",
       "\tNumber of arguments: 1.\n",
       "-C <cutoff>\n",
       "        Cutoff.  (default=0.002)\n",
       "\tNumber of arguments: 1.\n",
       "-save-data\n",
       "        Save instance data.\n",
       "-S <num>\n",
       "        Random number seed.  (default 42)\n",
       "\tNumber of arguments: 1.\n",
       "-output-debug-info\n",
       "        If set, clusterer is run in debug mode and may output\n",
       "        additional info to the console\n",
       "-do-not-check-capabilities\n",
       "        If set, clusterer capabilities are not checked before clusterer\n",
       "        is built (use with caution)."
      ]
     },
     "metadata": {},
     "output_type": "display_data"
    }
   ],
   "source": [
    "WOW(\"Cobweb\")"
   ]
  },
  {
   "cell_type": "code",
   "execution_count": 42,
   "metadata": {},
   "outputs": [
    {
     "data": {
      "text/plain": [
       "Number of merges: 36\n",
       "Number of splits: 26\n",
       "Number of clusters: 3\n",
       "\n",
       "node 0 [1300]\n",
       "|   leaf 1 [700]\n",
       "node 0 [1300]\n",
       "|   leaf 2 [600]\n",
       "\n"
      ]
     },
     "metadata": {},
     "output_type": "display_data"
    }
   ],
   "source": [
    "# configure cuoff\n",
    "Cobweb(data, control = Weka_control(C = 0.3))"
   ]
  },
  {
   "cell_type": "markdown",
   "metadata": {},
   "source": [
    "# Aplicando método probabilístico | Expectation Maximization"
   ]
  },
  {
   "cell_type": "raw",
   "metadata": {},
   "source": [
    "# Expectation-maximization http://rstudio-pubs-static.s3.amazonaws.com/154174_78c021bc71ab42f8add0b2966938a3b8.html\n",
    "# The Expectation MAximisation (EM) Algorithm in R https://www.youtube.com/watch?v=JzxAoeZ4Oec"
   ]
  },
  {
   "cell_type": "code",
   "execution_count": null,
   "metadata": {},
   "outputs": [],
   "source": []
  },
  {
   "cell_type": "markdown",
   "metadata": {},
   "source": [
    "# Aplicando redes neuronales | Self-Organised Maps"
   ]
  },
  {
   "cell_type": "raw",
   "metadata": {},
   "source": [
    "Self-Organising Maps for Customer Segmentation using R https://www.r-bloggers.com/self-organising-maps-for-customer-segmentation-using-r/"
   ]
  },
  {
   "cell_type": "code",
   "execution_count": null,
   "metadata": {},
   "outputs": [],
   "source": []
  },
  {
   "cell_type": "markdown",
   "metadata": {},
   "source": [
    "# Aplicando reglas de asociación | A priori"
   ]
  },
  {
   "cell_type": "raw",
   "metadata": {},
   "source": [
    "# RWeka pdf, associators(*) https://cran.r-project.org/web/packages/RWeka/RWeka.pdf\n",
    "# Mining Associations With Apriori https://www.rdocumentation.org/packages/arules/versions/1.6-1/topics/apriori\n",
    "# reading transaction https://www.rdocumentation.org/packages/arules/versions/1.6-1/topics/read.transactions"
   ]
  },
  {
   "cell_type": "code",
   "execution_count": 106,
   "metadata": {},
   "outputs": [
    {
     "name": "stderr",
     "output_type": "stream",
     "text": [
      "Warning message in asMethod(object):\n",
      "“removing duplicated items in transactions”"
     ]
    },
    {
     "data": {
      "text/plain": [
       "transactions in sparse format with\n",
       " 1301 transactions (rows) and\n",
       " 3546 items (columns)"
      ]
     },
     "metadata": {},
     "output_type": "display_data"
    }
   ],
   "source": [
    "library(\"arules\")\n",
    "# Read that csv back in\n",
    "tr <- read.transactions(\"credit_g_smoothed.csv\", format = \"basket\", sep=\",\")\n",
    "tr"
   ]
  },
  {
   "cell_type": "code",
   "execution_count": 107,
   "metadata": {},
   "outputs": [
    {
     "name": "stdout",
     "output_type": "stream",
     "text": [
      "Apriori\n",
      "\n",
      "Parameter specification:\n",
      " confidence minval smax arem  aval originalSupport maxtime support minlen\n",
      "        0.9    0.1    1 none FALSE            TRUE       5     0.5      1\n",
      " maxlen target   ext\n",
      "     10  rules FALSE\n",
      "\n",
      "Algorithmic control:\n",
      " filter tree heap memopt load sort verbose\n",
      "    0.1 TRUE TRUE  FALSE TRUE    2    TRUE\n",
      "\n",
      "Absolute minimum support count: 650 \n",
      "\n",
      "set item appearances ...[0 item(s)] done [0.00s].\n",
      "set transactions ...[3546 item(s), 1301 transaction(s)] done [0.00s].\n",
      "sorting and recoding items ... [11 item(s)] done [0.00s].\n",
      "creating transaction tree ... done [0.00s].\n",
      "checking subsets of size 1 2 3 4 done [0.00s].\n",
      "writing ... [96 rule(s)] done [0.00s].\n",
      "creating S4 object  ... done [0.00s].\n"
     ]
    },
    {
     "data": {
      "text/plain": [
       "set of 96 rules\n",
       "\n",
       "rule length distribution (lhs + rhs):sizes\n",
       " 1  2  3  4 \n",
       " 3 29 46 18 \n",
       "\n",
       "   Min. 1st Qu.  Median    Mean 3rd Qu.    Max. \n",
       "  1.000   2.000   3.000   2.823   3.000   4.000 \n",
       "\n",
       "summary of quality measures:\n",
       "    support         confidence          lift            count       \n",
       " Min.   :0.5073   Min.   :0.9069   Min.   :0.9816   Min.   : 660.0  \n",
       " 1st Qu.:0.5511   1st Qu.:0.9401   1st Qu.:0.9984   1st Qu.: 717.0  \n",
       " Median :0.5980   Median :0.9787   Median :1.0012   Median : 778.0  \n",
       " Mean   :0.6320   Mean   :0.9647   Mean   :1.0012   Mean   : 822.3  \n",
       " 3rd Qu.:0.6555   3rd Qu.:0.9912   3rd Qu.:1.0034   3rd Qu.: 852.8  \n",
       " Max.   :0.9915   Max.   :0.9950   Max.   :1.0351   Max.   :1290.0  \n",
       "\n",
       "mining info:\n",
       " data ntransactions support confidence\n",
       "   tr          1301     0.5        0.9"
      ]
     },
     "metadata": {},
     "output_type": "display_data"
    }
   ],
   "source": [
    "x <- read.arff(\"credit_g_smoothed.arff\")\n",
    "## Apriori with defaults.\n",
    "#data(\"purpouse\")\n",
    "## Mine association rules.\n",
    "rules <- apriori(tr, parameter = list(supp = 0.5, conf = 0.9, target = \"rules\"))\n",
    "summary(rules)"
   ]
  }
 ],
 "metadata": {
  "kernelspec": {
   "display_name": "R",
   "language": "R",
   "name": "ir"
  },
  "language_info": {
   "codemirror_mode": "r",
   "file_extension": ".r",
   "mimetype": "text/x-r-source",
   "name": "R",
   "pygments_lexer": "r",
   "version": "3.4.3"
  }
 },
 "nbformat": 4,
 "nbformat_minor": 2
}
