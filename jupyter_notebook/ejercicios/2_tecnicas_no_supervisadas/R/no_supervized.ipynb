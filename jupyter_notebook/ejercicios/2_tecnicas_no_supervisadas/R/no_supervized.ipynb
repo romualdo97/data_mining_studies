{
 "cells": [
  {
   "cell_type": "markdown",
   "metadata": {},
   "source": [
    "# Cargar datos"
   ]
  },
  {
   "cell_type": "raw",
   "metadata": {},
   "source": [
    "# cargar datos en forma csv aqui"
   ]
  },
  {
   "cell_type": "code",
   "execution_count": null,
   "metadata": {},
   "outputs": [],
   "source": []
  },
  {
   "cell_type": "markdown",
   "metadata": {},
   "source": [
    "# Aplicar K-means"
   ]
  },
  {
   "cell_type": "raw",
   "metadata": {},
   "source": [
    "# aplicar kmeans\n",
    "# K-Means Clustering: https://stat.ethz.ch/R-manual/R-devel/library/stats/html/kmeans.html\n",
    "# K Means Clustering in R(*): https://datascienceplus.com/k-means-clustering-in-r/\n",
    "# RWeka pdf, clusterers(*) https://cran.r-project.org/web/packages/RWeka/RWeka.pdf"
   ]
  },
  {
   "cell_type": "code",
   "execution_count": null,
   "metadata": {},
   "outputs": [],
   "source": []
  },
  {
   "cell_type": "markdown",
   "metadata": {},
   "source": [
    "# Aplicar Cobweb"
   ]
  },
  {
   "cell_type": "raw",
   "metadata": {},
   "source": [
    "# [R] R Weka and cobweb https://stat.ethz.ch/pipermail/r-help/2007-August/138483.html\n",
    "# RWeka: R/Weka Interface https://cran.r-project.org/web/packages/RWeka/index.html\n",
    "# RWeka pdf, clusterers(*) https://cran.r-project.org/web/packages/RWeka/RWeka.pdf"
   ]
  },
  {
   "cell_type": "code",
   "execution_count": null,
   "metadata": {},
   "outputs": [],
   "source": []
  },
  {
   "cell_type": "markdown",
   "metadata": {},
   "source": [
    "# Aplicar Expectation Maximization"
   ]
  },
  {
   "cell_type": "raw",
   "metadata": {},
   "source": [
    "# Expectation-maximization http://rstudio-pubs-static.s3.amazonaws.com/154174_78c021bc71ab42f8add0b2966938a3b8.html\n",
    "# The Expectation MAximisation (EM) Algorithm in R https://www.youtube.com/watch?v=JzxAoeZ4Oec"
   ]
  },
  {
   "cell_type": "code",
   "execution_count": null,
   "metadata": {},
   "outputs": [],
   "source": []
  },
  {
   "cell_type": "markdown",
   "metadata": {},
   "source": [
    "# Aplicar Self-Organised Maps"
   ]
  },
  {
   "cell_type": "raw",
   "metadata": {},
   "source": [
    "Self-Organising Maps for Customer Segmentation using R https://www.r-bloggers.com/self-organising-maps-for-customer-segmentation-using-r/"
   ]
  },
  {
   "cell_type": "code",
   "execution_count": null,
   "metadata": {},
   "outputs": [],
   "source": []
  },
  {
   "cell_type": "markdown",
   "metadata": {},
   "source": [
    "# Aplicar reglas de asociacion"
   ]
  },
  {
   "cell_type": "raw",
   "metadata": {},
   "source": [
    "# RWeka pdf, associators(*) https://cran.r-project.org/web/packages/RWeka/RWeka.pdf\n",
    "# Mining Associations With Apriori https://www.rdocumentation.org/packages/arules/versions/1.6-1/topics/apriori"
   ]
  },
  {
   "cell_type": "code",
   "execution_count": null,
   "metadata": {},
   "outputs": [],
   "source": []
  }
 ],
 "metadata": {
  "kernelspec": {
   "display_name": "R",
   "language": "R",
   "name": "ir"
  },
  "language_info": {
   "name": ""
  }
 },
 "nbformat": 4,
 "nbformat_minor": 2
}
