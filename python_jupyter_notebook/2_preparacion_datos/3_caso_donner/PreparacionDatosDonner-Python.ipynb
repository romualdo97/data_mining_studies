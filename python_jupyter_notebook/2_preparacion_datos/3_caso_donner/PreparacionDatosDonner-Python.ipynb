{
 "cells": [
  {
   "cell_type": "markdown",
   "metadata": {},
   "source": [
    "# Ejercicio de Preparacion de datos\n",
    "## python\n",
    "por Jose R. Zapata\n",
    "Mineria de Datos, UPB 2018"
   ]
  },
  {
   "cell_type": "markdown",
   "metadata": {},
   "source": [
    "Donner Party data. http://www.stat.ufl.edu/~winner/datasets.html\n",
    "\n",
    "Source: Kristin Johnson's killer webpage @ www.utahcrossing.org\n",
    "\n",
    "Description: Statistics regarding the 89 members of Donner party 1846-1847.\n",
    "\n",
    "Variables/Columns\n",
    "\n",
    "Name 1-27\n",
    "Age 29-30\n",
    "Gender 31\n",
    "Survive 46 / 1=Yes, 0=No /\n",
    "Date of death 49-58 / mmddyyyy10. /\n",
    "rescue party 67 / among survivors /\n",
    "date joined party 72-81 / mmddyyyy10. /\n",
    "trapped in mountains 90 / 1=Yes, 0=no /\n",
    "camp 91-92 / LC=Lake Camp, AC=Alden Creek (mid december)"
   ]
  },
  {
   "cell_type": "code",
   "execution_count": 2,
   "metadata": {},
   "outputs": [],
   "source": [
    "# convertir datos  en forma de columna a csv\n",
    "with open('donner.csv', 'w') as fout:\n",
    "    fout.write('name,age,gender,survive,death_date,rescue,party_date,mountains,camp\\n')\n",
    "    for line in open('donner.dat').read().split('\\n'):\n",
    "        items = [line[:28], line[28:30], line[30:31], line[45:46],\n",
    "                 line[48:58], line[66:67], line[71:81],\n",
    "                line[89:90], line[90:]]\n",
    "        new_line = ','.join(x.strip() for x in items)+'\\n'\n",
    "        fout.write(new_line)"
   ]
  },
  {
   "cell_type": "markdown",
   "metadata": {},
   "source": [
    "## Ejercicio: convertir donner a numerico\n",
    "\n",
    "- Cargar los datos en un dataframe quese llame donner\n",
    "- Realizar descripcion de los datos\n",
    "- Realizar preparacion de los datos\n",
    "   * Definir bien lso valores de la columna dates, pueden usar pd.to_datetime\n",
    "   * Eliminar las columnas name, death_date and party_date\n",
    "   * Crear columnas dummy para gender y camp\n",
    "   * Llenar los valores faltantes con 0 (mirar .fill_na\n",
    "- Realizar el mismo ejercicio con R"
   ]
  },
  {
   "cell_type": "code",
   "execution_count": 4,
   "metadata": {
    "collapsed": true
   },
   "outputs": [],
   "source": [
    "# Importar librerias\n",
    "%matplotlib inline\n",
    "import matplotlib.pyplot as plt\n",
    "import numpy as np\n",
    "import pandas as pd"
   ]
  },
  {
   "cell_type": "markdown",
   "metadata": {},
   "source": [
    "# 1. Cargar Datos"
   ]
  },
  {
   "cell_type": "code",
   "execution_count": 8,
   "metadata": {},
   "outputs": [
    {
     "data": {
      "text/html": [
       "<div>\n",
       "<style>\n",
       "    .dataframe thead tr:only-child th {\n",
       "        text-align: right;\n",
       "    }\n",
       "\n",
       "    .dataframe thead th {\n",
       "        text-align: left;\n",
       "    }\n",
       "\n",
       "    .dataframe tbody tr th {\n",
       "        vertical-align: top;\n",
       "    }\n",
       "</style>\n",
       "<table border=\"1\" class=\"dataframe\">\n",
       "  <thead>\n",
       "    <tr style=\"text-align: right;\">\n",
       "      <th></th>\n",
       "      <th>name</th>\n",
       "      <th>age</th>\n",
       "      <th>gender</th>\n",
       "      <th>survive</th>\n",
       "      <th>death_date</th>\n",
       "      <th>rescue</th>\n",
       "      <th>party_date</th>\n",
       "      <th>mountains</th>\n",
       "      <th>camp</th>\n",
       "    </tr>\n",
       "  </thead>\n",
       "  <tbody>\n",
       "    <tr>\n",
       "      <th>0</th>\n",
       "      <td>George Donner</td>\n",
       "      <td>60.0</td>\n",
       "      <td>M</td>\n",
       "      <td>0.0</td>\n",
       "      <td>03/27/1847</td>\n",
       "      <td>NaN</td>\n",
       "      <td>07/19/1846</td>\n",
       "      <td>1.0</td>\n",
       "      <td>AC</td>\n",
       "    </tr>\n",
       "    <tr>\n",
       "      <th>1</th>\n",
       "      <td>Tamsen Donner</td>\n",
       "      <td>45.0</td>\n",
       "      <td>F</td>\n",
       "      <td>0.0</td>\n",
       "      <td>03/28/1847</td>\n",
       "      <td>NaN</td>\n",
       "      <td>07/19/1846</td>\n",
       "      <td>1.0</td>\n",
       "      <td>AC</td>\n",
       "    </tr>\n",
       "    <tr>\n",
       "      <th>2</th>\n",
       "      <td>Frances Donner</td>\n",
       "      <td>6.0</td>\n",
       "      <td>F</td>\n",
       "      <td>1.0</td>\n",
       "      <td>NaN</td>\n",
       "      <td>3.0</td>\n",
       "      <td>07/19/1846</td>\n",
       "      <td>1.0</td>\n",
       "      <td>AC</td>\n",
       "    </tr>\n",
       "    <tr>\n",
       "      <th>3</th>\n",
       "      <td>Georgia Donner</td>\n",
       "      <td>4.0</td>\n",
       "      <td>F</td>\n",
       "      <td>1.0</td>\n",
       "      <td>NaN</td>\n",
       "      <td>3.0</td>\n",
       "      <td>07/19/1846</td>\n",
       "      <td>1.0</td>\n",
       "      <td>AC</td>\n",
       "    </tr>\n",
       "    <tr>\n",
       "      <th>4</th>\n",
       "      <td>Eliza Donner</td>\n",
       "      <td>3.0</td>\n",
       "      <td>F</td>\n",
       "      <td>1.0</td>\n",
       "      <td>NaN</td>\n",
       "      <td>3.0</td>\n",
       "      <td>07/19/1846</td>\n",
       "      <td>1.0</td>\n",
       "      <td>AC</td>\n",
       "    </tr>\n",
       "  </tbody>\n",
       "</table>\n",
       "</div>"
      ],
      "text/plain": [
       "             name   age gender  survive  death_date  rescue  party_date  \\\n",
       "0   George Donner  60.0      M      0.0  03/27/1847     NaN  07/19/1846   \n",
       "1   Tamsen Donner  45.0      F      0.0  03/28/1847     NaN  07/19/1846   \n",
       "2  Frances Donner   6.0      F      1.0         NaN     3.0  07/19/1846   \n",
       "3  Georgia Donner   4.0      F      1.0         NaN     3.0  07/19/1846   \n",
       "4    Eliza Donner   3.0      F      1.0         NaN     3.0  07/19/1846   \n",
       "\n",
       "   mountains camp  \n",
       "0        1.0   AC  \n",
       "1        1.0   AC  \n",
       "2        1.0   AC  \n",
       "3        1.0   AC  \n",
       "4        1.0   AC  "
      ]
     },
     "execution_count": 8,
     "metadata": {},
     "output_type": "execute_result"
    }
   ],
   "source": [
    "# cargar archivos\n",
    "df = pd.read_csv('donner.csv')\n",
    "df.head() # muestra las primeras 5 filas"
   ]
  },
  {
   "cell_type": "markdown",
   "metadata": {},
   "source": [
    "# 2. Descripcion de datos"
   ]
  },
  {
   "cell_type": "code",
   "execution_count": 11,
   "metadata": {},
   "outputs": [
    {
     "data": {
      "text/plain": [
       "name           object\n",
       "age           float64\n",
       "gender         object\n",
       "survive       float64\n",
       "death_date     object\n",
       "rescue        float64\n",
       "party_date     object\n",
       "mountains     float64\n",
       "camp           object\n",
       "dtype: object"
      ]
     },
     "execution_count": 11,
     "metadata": {},
     "output_type": "execute_result"
    }
   ],
   "source": [
    "# De que tipo son las variables\n",
    "df.dtypes"
   ]
  },
  {
   "cell_type": "code",
   "execution_count": 13,
   "metadata": {},
   "outputs": [
    {
     "data": {
      "text/plain": [
       "(90, 9)"
      ]
     },
     "execution_count": 13,
     "metadata": {},
     "output_type": "execute_result"
    }
   ],
   "source": [
    "# Cuantas filas y columnas tiene la tabla\n",
    "# Filas = Numero de pasajeros\n",
    "# Col = Numero de atributos\n",
    "df.shape"
   ]
  },
  {
   "cell_type": "code",
   "execution_count": 15,
   "metadata": {},
   "outputs": [
    {
     "data": {
      "text/plain": [
       "(0, 9)"
      ]
     },
     "execution_count": 15,
     "metadata": {},
     "output_type": "execute_result"
    }
   ],
   "source": [
    "# Que pasa si se eliminan todos las filas y columnas con datos faltantes\n",
    "df.dropna().shape"
   ]
  },
  {
   "cell_type": "code",
   "execution_count": 16,
   "metadata": {},
   "outputs": [
    {
     "data": {
      "text/html": [
       "<div>\n",
       "<style>\n",
       "    .dataframe thead tr:only-child th {\n",
       "        text-align: right;\n",
       "    }\n",
       "\n",
       "    .dataframe thead th {\n",
       "        text-align: left;\n",
       "    }\n",
       "\n",
       "    .dataframe tbody tr th {\n",
       "        vertical-align: top;\n",
       "    }\n",
       "</style>\n",
       "<table border=\"1\" class=\"dataframe\">\n",
       "  <thead>\n",
       "    <tr style=\"text-align: right;\">\n",
       "      <th></th>\n",
       "      <th>age</th>\n",
       "      <th>survive</th>\n",
       "      <th>rescue</th>\n",
       "      <th>mountains</th>\n",
       "    </tr>\n",
       "  </thead>\n",
       "  <tbody>\n",
       "    <tr>\n",
       "      <th>count</th>\n",
       "      <td>89.000000</td>\n",
       "      <td>89.000000</td>\n",
       "      <td>48.000000</td>\n",
       "      <td>89.000000</td>\n",
       "    </tr>\n",
       "    <tr>\n",
       "      <th>mean</th>\n",
       "      <td>19.786517</td>\n",
       "      <td>0.539326</td>\n",
       "      <td>1.583333</td>\n",
       "      <td>0.910112</td>\n",
       "    </tr>\n",
       "    <tr>\n",
       "      <th>std</th>\n",
       "      <td>15.109052</td>\n",
       "      <td>0.501275</td>\n",
       "      <td>1.217485</td>\n",
       "      <td>0.287641</td>\n",
       "    </tr>\n",
       "    <tr>\n",
       "      <th>min</th>\n",
       "      <td>1.000000</td>\n",
       "      <td>0.000000</td>\n",
       "      <td>0.000000</td>\n",
       "      <td>0.000000</td>\n",
       "    </tr>\n",
       "    <tr>\n",
       "      <th>25%</th>\n",
       "      <td>7.000000</td>\n",
       "      <td>0.000000</td>\n",
       "      <td>1.000000</td>\n",
       "      <td>1.000000</td>\n",
       "    </tr>\n",
       "    <tr>\n",
       "      <th>50%</th>\n",
       "      <td>17.000000</td>\n",
       "      <td>1.000000</td>\n",
       "      <td>1.000000</td>\n",
       "      <td>1.000000</td>\n",
       "    </tr>\n",
       "    <tr>\n",
       "      <th>75%</th>\n",
       "      <td>30.000000</td>\n",
       "      <td>1.000000</td>\n",
       "      <td>3.000000</td>\n",
       "      <td>1.000000</td>\n",
       "    </tr>\n",
       "    <tr>\n",
       "      <th>max</th>\n",
       "      <td>60.000000</td>\n",
       "      <td>1.000000</td>\n",
       "      <td>4.000000</td>\n",
       "      <td>1.000000</td>\n",
       "    </tr>\n",
       "  </tbody>\n",
       "</table>\n",
       "</div>"
      ],
      "text/plain": [
       "             age    survive     rescue  mountains\n",
       "count  89.000000  89.000000  48.000000  89.000000\n",
       "mean   19.786517   0.539326   1.583333   0.910112\n",
       "std    15.109052   0.501275   1.217485   0.287641\n",
       "min     1.000000   0.000000   0.000000   0.000000\n",
       "25%     7.000000   0.000000   1.000000   1.000000\n",
       "50%    17.000000   1.000000   1.000000   1.000000\n",
       "75%    30.000000   1.000000   3.000000   1.000000\n",
       "max    60.000000   1.000000   4.000000   1.000000"
      ]
     },
     "execution_count": 16,
     "metadata": {},
     "output_type": "execute_result"
    }
   ],
   "source": [
    "# Realizar un analisis estadistico de las variables numericas\n",
    "# Segun el tipo \n",
    "df.describe()"
   ]
  }
 ],
 "metadata": {
  "kernelspec": {
   "display_name": "Python 3",
   "language": "python",
   "name": "python3"
  },
  "language_info": {
   "codemirror_mode": {
    "name": "ipython",
    "version": 3
   },
   "file_extension": ".py",
   "mimetype": "text/x-python",
   "name": "python",
   "nbconvert_exporter": "python",
   "pygments_lexer": "ipython3",
   "version": "3.6.3"
  }
 },
 "nbformat": 4,
 "nbformat_minor": 2
}
