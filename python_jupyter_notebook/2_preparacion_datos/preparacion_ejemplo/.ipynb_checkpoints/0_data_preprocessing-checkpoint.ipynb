{
 "cells": [
  {
   "cell_type": "code",
   "execution_count": 2,
   "metadata": {
    "collapsed": true
   },
   "outputs": [],
   "source": [
    "import pandas as pd\n"
   ]
  },
  {
   "cell_type": "code",
   "execution_count": 6,
   "metadata": {},
   "outputs": [],
   "source": [
    "# import data\n",
    "datos1 = pd.read_csv(\"Datos1.csv\");\n",
    "datos2 = pd.read_excel(\"Datos2.xlsx\");"
   ]
  },
  {
   "cell_type": "code",
   "execution_count": 10,
   "metadata": {},
   "outputs": [
    {
     "name": "stdout",
     "output_type": "stream",
     "text": [
      "===================================================\n",
      "DATOS 1:\n",
      "\n",
      "    Id             Nombre  Estrato Sexo Enfermedad\n",
      "0    1          Ana Perez        3    F         SI\n",
      "1    2      Mauricio Rios        2    M         NO\n",
      "2    3       Samuel Ochoa        4    M         NO\n",
      "3    4      Emilia Oviedo        3    F         NO\n",
      "4    5       Carmen Reyes        4    F         SI\n",
      "5    6     Alberto Arenas        4    M         NO\n",
      "6    7     Maria Betancur        3    M         NO\n",
      "7    8      Manuel Regino        2    M         NO\n",
      "8    9        Sara Merino        2    F         NO\n",
      "9   10      Pepe Corrales        2    M         SI\n",
      "10  11        Raul Poveda        4    M         NO\n",
      "11  12  Cristina Carrillo        3    F         NO\n",
      "12  13         Olga Arias        2    F         NO\n",
      "13  14      Yaned Cardona        4    F         SI\n",
      "14  15     Paula Quintero        3    F         NO\n",
      "15  16  Jeronimo Martinez        2    M         NO\n",
      "    Id Colegio_U Activo_Web  Asistencia  Entregas_Completas Trabaja  \\\n",
      "0    1        SI       BAJA        0.10                0.45      NO   \n",
      "1    2        NO      MEDIA        0.45                0.60      NO   \n",
      "2    3        NO       ALTA        0.50                0.75      SI   \n",
      "3    4        NO       ALTA        0.00                0.50      SI   \n",
      "4    5        NO      MEDIA        0.65                0.85      NO   \n",
      "5    6        NO       BAJA        0.10                0.00      NO   \n",
      "6    7        NO      MEDIA        0.20                0.90      NO   \n",
      "7    8        NO      MEDIA        0.30                0.80      SI   \n",
      "8    9        SI       BAJA        0.35                0.70      NO   \n",
      "9   10        NO       BAJA        0.75                0.50      SI   \n",
      "10  11        SI       ALTA        0.70                0.60      NO   \n",
      "11  12        NO      MEDIA        0.90                0.80      NO   \n",
      "12  13        NO       ALTA        0.20                0.25      NO   \n",
      "13  14        NO       ALTA        0.20                0.20      NO   \n",
      "14  15        NO       BAJA        0.90                0.80      NO   \n",
      "15  16        NO      MEDIA        1.00                1.00      NO   \n",
      "\n",
      "   Examen_Final  \n",
      "0      APROBADO  \n",
      "1      APROBADO  \n",
      "2   DESAPROBADO  \n",
      "3   DESAPROBADO  \n",
      "4      APROBADO  \n",
      "5   DESAPROBADO  \n",
      "6      APROBADO  \n",
      "7   DESAPROBADO  \n",
      "8      APROBADO  \n",
      "9   DESAPROBADO  \n",
      "10     APROBADO  \n",
      "11     APROBADO  \n",
      "12  DESAPROBADO  \n",
      "13  DESAPROBADO  \n",
      "14     APROBADO  \n",
      "15     APROBADO  \n"
     ]
    }
   ],
   "source": [
    "# debug imported data\n",
    "print(\"===================================================\\nDATOS 1:\\n\")\n",
    "print(datos1)\n",
    "print(\"\\n\\n===================================================\\nDATOS 1:\\n\")\n",
    "print(datos2)"
   ]
  },
  {
   "cell_type": "code",
   "execution_count": null,
   "metadata": {
    "collapsed": true
   },
   "outputs": [],
   "source": []
  },
  {
   "cell_type": "code",
   "execution_count": null,
   "metadata": {
    "collapsed": true
   },
   "outputs": [],
   "source": []
  },
  {
   "cell_type": "code",
   "execution_count": null,
   "metadata": {
    "collapsed": true
   },
   "outputs": [],
   "source": [
    "=="
   ]
  },
  {
   "cell_type": "code",
   "execution_count": null,
   "metadata": {
    "collapsed": true
   },
   "outputs": [],
   "source": []
  },
  {
   "cell_type": "code",
   "execution_count": null,
   "metadata": {
    "collapsed": true
   },
   "outputs": [],
   "source": []
  },
  {
   "cell_type": "code",
   "execution_count": null,
   "metadata": {
    "collapsed": true
   },
   "outputs": [],
   "source": []
  }
 ],
 "metadata": {
  "kernelspec": {
   "display_name": "Python 3",
   "language": "python",
   "name": "python3"
  },
  "language_info": {
   "codemirror_mode": {
    "name": "ipython",
    "version": 3
   },
   "file_extension": ".py",
   "mimetype": "text/x-python",
   "name": "python",
   "nbconvert_exporter": "python",
   "pygments_lexer": "ipython3",
   "version": "3.6.3"
  }
 },
 "nbformat": 4,
 "nbformat_minor": 2
}
