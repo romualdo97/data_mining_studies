{
 "cells": [
  {
   "cell_type": "markdown",
   "metadata": {},
   "source": [
    "# Ejercicio 1: Regresion Lineal (R)"
   ]
  },
  {
   "cell_type": "markdown",
   "metadata": {},
   "source": [
    "## 1 Regresion lineal con una sola variable\n",
    "En este ejercicio, implementaremos la regresión lineal con una variable para predecir las ganancias de un camión de comida (Foodtruck). Supongamos que usted es el director ejecutivo (CEO) de una franquicia de restaurantes y están considerando diferentes ciudades para expandir el negocio.\n",
    "La cadena ya tiene camiones en varias ciudades y tiene datos de las ganancias y la poblacion de las ciudades.\n",
    "\n",
    "El archivo ex1data1.txt contiene el conjunto de datos para nuestro problema de regresión lineal. La primera columna es la población por ciudad y la segunda columna es la ganancia de un camión de comida en esa ciudad. Un valor negativo indica una pérdidas en la ganancia."
   ]
  },
  {
   "cell_type": "code",
   "execution_count": 3,
   "metadata": {},
   "outputs": [],
   "source": [
    "datafile = read.csv('data/ex1data1.txt',header=FALSE)"
   ]
  },
  {
   "cell_type": "code",
   "execution_count": 6,
   "metadata": {},
   "outputs": [
    {
     "data": {
      "text/html": [
       "<table>\n",
       "<thead><tr><th scope=col>V1</th><th scope=col>V2</th></tr></thead>\n",
       "<tbody>\n",
       "\t<tr><td>6.1101 </td><td>17.5920</td></tr>\n",
       "\t<tr><td>5.5277 </td><td> 9.1302</td></tr>\n",
       "\t<tr><td>8.5186 </td><td>13.6620</td></tr>\n",
       "\t<tr><td>7.0032 </td><td>11.8540</td></tr>\n",
       "\t<tr><td>5.8598 </td><td> 6.8233</td></tr>\n",
       "\t<tr><td>8.3829 </td><td>11.8860</td></tr>\n",
       "</tbody>\n",
       "</table>\n"
      ],
      "text/latex": [
       "\\begin{tabular}{r|ll}\n",
       " V1 & V2\\\\\n",
       "\\hline\n",
       "\t 6.1101  & 17.5920\\\\\n",
       "\t 5.5277  &  9.1302\\\\\n",
       "\t 8.5186  & 13.6620\\\\\n",
       "\t 7.0032  & 11.8540\\\\\n",
       "\t 5.8598  &  6.8233\\\\\n",
       "\t 8.3829  & 11.8860\\\\\n",
       "\\end{tabular}\n"
      ],
      "text/markdown": [
       "\n",
       "V1 | V2 | \n",
       "|---|---|---|---|---|---|\n",
       "| 6.1101  | 17.5920 | \n",
       "| 5.5277  |  9.1302 | \n",
       "| 8.5186  | 13.6620 | \n",
       "| 7.0032  | 11.8540 | \n",
       "| 5.8598  |  6.8233 | \n",
       "| 8.3829  | 11.8860 | \n",
       "\n",
       "\n"
      ],
      "text/plain": [
       "  V1     V2     \n",
       "1 6.1101 17.5920\n",
       "2 5.5277  9.1302\n",
       "3 8.5186 13.6620\n",
       "4 7.0032 11.8540\n",
       "5 5.8598  6.8233\n",
       "6 8.3829 11.8860"
      ]
     },
     "metadata": {},
     "output_type": "display_data"
    }
   ],
   "source": [
    "# V1 = Poblacion\n",
    "# V2 = Ganancia\n",
    "head(datafile)"
   ]
  },
  {
   "cell_type": "code",
   "execution_count": 83,
   "metadata": {},
   "outputs": [
    {
     "data": {
      "text/plain": [
       "\n",
       "Call:\n",
       "lm(formula = datafile$V2 ~ datafile$V1, data = datafile, method = \"qr\")\n",
       "\n",
       "Coefficients:\n",
       "(Intercept)  datafile$V1  \n",
       "     -3.896        1.193  \n"
      ]
     },
     "metadata": {},
     "output_type": "display_data"
    }
   ],
   "source": [
    "# regresion Lineal\n",
    "Regresion <- lm(datafile$V2 ~ datafile$V1, data=datafile, method = \"qr\" )\n",
    "Regresion"
   ]
  },
  {
   "cell_type": "code",
   "execution_count": 39,
   "metadata": {},
   "outputs": [
    {
     "data": {
      "text/plain": [
       "\n",
       "Call:\n",
       "lm(formula = datafile$V2 ~ datafile$V1, data = datafile)\n",
       "\n",
       "Residuals:\n",
       "    Min      1Q  Median      3Q     Max \n",
       "-5.8540 -1.9686 -0.5407  1.5360 14.1982 \n",
       "\n",
       "Coefficients:\n",
       "            Estimate Std. Error t value Pr(>|t|)    \n",
       "(Intercept) -3.89578    0.71948  -5.415 4.61e-07 ***\n",
       "datafile$V1  1.19303    0.07974  14.961  < 2e-16 ***\n",
       "---\n",
       "Signif. codes:  0 ‘***’ 0.001 ‘**’ 0.01 ‘*’ 0.05 ‘.’ 0.1 ‘ ’ 1\n",
       "\n",
       "Residual standard error: 3.024 on 95 degrees of freedom\n",
       "Multiple R-squared:  0.702,\tAdjusted R-squared:  0.6989 \n",
       "F-statistic: 223.8 on 1 and 95 DF,  p-value: < 2.2e-16\n"
      ]
     },
     "metadata": {},
     "output_type": "display_data"
    }
   ],
   "source": [
    "summary(Regresion)"
   ]
  },
  {
   "cell_type": "code",
   "execution_count": 52,
   "metadata": {},
   "outputs": [
    {
     "data": {
      "text/html": [
       "<dl class=dl-horizontal>\n",
       "\t<dt>(Intercept)</dt>\n",
       "\t\t<dd>-3.89578087831187</dd>\n",
       "\t<dt>datafile$V1</dt>\n",
       "\t\t<dd>1.1930336441896</dd>\n",
       "</dl>\n"
      ],
      "text/latex": [
       "\\begin{description*}\n",
       "\\item[(Intercept)] -3.89578087831187\n",
       "\\item[datafile\\textbackslash{}\\$V1] 1.1930336441896\n",
       "\\end{description*}\n"
      ],
      "text/markdown": [
       "(Intercept)\n",
       ":   -3.89578087831187datafile$V1\n",
       ":   1.1930336441896\n",
       "\n"
      ],
      "text/plain": [
       "(Intercept) datafile$V1 \n",
       "  -3.895781    1.193034 "
      ]
     },
     "metadata": {},
     "output_type": "display_data"
    }
   ],
   "source": [
    "coefficients(Regresion)"
   ]
  },
  {
   "cell_type": "code",
   "execution_count": 31,
   "metadata": {},
   "outputs": [
    {
     "data": {
      "image/png": "[encoded data removed]",
      "text/plain": [
       "plot without title"
      ]
     },
     "metadata": {},
     "output_type": "display_data",
     "source": "R display func"
    }
   ],
   "source": [
    "plot(datafile$V1, datafile$V2, xlab='Poblacion de la ciudad en 10,000s',\n",
    "     ylab = 'Ganancia en $10,000s', pch ='X', col='red')\n",
    "abline(Regresion, col = \"blue\")"
   ]
  },
  {
   "cell_type": "code",
   "execution_count": 79,
   "metadata": {},
   "outputs": [
    {
     "name": "stdout",
     "output_type": "stream",
     "text": [
      "Hipotesis: h(x) =  -3.895781  +  1.193034NULL\n"
     ]
    },
    {
     "data": {
      "text/html": [
       "'La ganancia en una ciudad con una poblacion de 35000 es = $2798.36876351714'"
      ],
      "text/latex": [
       "'La ganancia en una ciudad con una poblacion de 35000 es = \\$2798.36876351714'"
      ],
      "text/markdown": [
       "'La ganancia en una ciudad con una poblacion de 35000 es = $2798.36876351714'"
      ],
      "text/plain": [
       "[1] \"La ganancia en una ciudad con una poblacion de 35000 es = $2798.36876351714\""
      ]
     },
     "metadata": {},
     "output_type": "display_data"
    },
    {
     "data": {
      "text/html": [
       "'La ganancia en una ciudad con una poblacion de 70000 es = $44554.546310153'"
      ],
      "text/latex": [
       "'La ganancia en una ciudad con una poblacion de 70000 es = \\$44554.546310153'"
      ],
      "text/markdown": [
       "'La ganancia en una ciudad con una poblacion de 70000 es = $44554.546310153'"
      ],
      "text/plain": [
       "[1] \"La ganancia en una ciudad con una poblacion de 70000 es = $44554.546310153\""
      ]
     },
     "metadata": {},
     "output_type": "display_data"
    }
   ],
   "source": [
    "# Predecir la ganancia para ciudades con una poblacion de 35000 y 70000\n",
    "# NOTA = index en R empieza en 1\n",
    "print(cat('Hipotesis: h(x) = ',coefficients(Regresion)[1],' + ',coefficients(Regresion)[2]))\n",
    "valor1 = (coefficients(Regresion)[1]+coefficients(Regresion)[2]*3.5)*10000\n",
    "valor2 = (coefficients(Regresion)[1]+coefficients(Regresion)[2]*7)*10000\n",
    "paste0('La ganancia en una ciudad con una poblacion de 35000 es = $',valor1)\n",
    "paste0('La ganancia en una ciudad con una poblacion de 70000 es = $',valor2)"
   ]
  },
  {
   "cell_type": "markdown",
   "metadata": {},
   "source": [
    "## 2. Regresion lineal con varias variables\n",
    "En este ejercicio implementareros una regresión lineal con múltiples variables para predecir los precios de las casas. Supongamos que está vendiendo su casa y quiere saber cuál sería el precio de mercado. Una forma de hacerlo es recopilar primero información sobre las casas vendidas recientemente y crear un modelo de precios por vivienda.\n",
    "\n",
    "\n",
    "El archivo ex1data2.txt contiene un conjunto de datos de entrenamiento de precios de vivienda en Portland, Oregon. La primera columna es el tamaño de la casa (en pies cuadrados), la segunda columna es el número de habitaciones y la tercera columna es el precio de la casa."
   ]
  },
  {
   "cell_type": "code",
   "execution_count": 16,
   "metadata": {},
   "outputs": [
    {
     "data": {
      "text/html": [
       "<table>\n",
       "<thead><tr><th scope=col>Tamaño casa pies cuadrados</th><th scope=col>Numero de habitaciones</th><th scope=col>Precio de casa</th></tr></thead>\n",
       "<tbody>\n",
       "\t<tr><td>2104  </td><td>3     </td><td>399900</td></tr>\n",
       "\t<tr><td>1600  </td><td>3     </td><td>329900</td></tr>\n",
       "\t<tr><td>2400  </td><td>3     </td><td>369000</td></tr>\n",
       "\t<tr><td>1416  </td><td>2     </td><td>232000</td></tr>\n",
       "\t<tr><td>3000  </td><td>4     </td><td>539900</td></tr>\n",
       "\t<tr><td>1985  </td><td>4     </td><td>299900</td></tr>\n",
       "</tbody>\n",
       "</table>\n"
      ],
      "text/latex": [
       "\\begin{tabular}{r|lll}\n",
       " Tamaño casa pies cuadrados & Numero de habitaciones & Precio de casa\\\\\n",
       "\\hline\n",
       "\t 2104   & 3      & 399900\\\\\n",
       "\t 1600   & 3      & 329900\\\\\n",
       "\t 2400   & 3      & 369000\\\\\n",
       "\t 1416   & 2      & 232000\\\\\n",
       "\t 3000   & 4      & 539900\\\\\n",
       "\t 1985   & 4      & 299900\\\\\n",
       "\\end{tabular}\n"
      ],
      "text/markdown": [
       "\n",
       "Tamaño casa pies cuadrados | Numero de habitaciones | Precio de casa | \n",
       "|---|---|---|---|---|---|\n",
       "| 2104   | 3      | 399900 | \n",
       "| 1600   | 3      | 329900 | \n",
       "| 2400   | 3      | 369000 | \n",
       "| 1416   | 2      | 232000 | \n",
       "| 3000   | 4      | 539900 | \n",
       "| 1985   | 4      | 299900 | \n",
       "\n",
       "\n"
      ],
      "text/plain": [
       "  Tamaño casa pies cuadrados Numero de habitaciones Precio de casa\n",
       "1 2104                       3                      399900        \n",
       "2 1600                       3                      329900        \n",
       "3 2400                       3                      369000        \n",
       "4 1416                       2                      232000        \n",
       "5 3000                       4                      539900        \n",
       "6 1985                       4                      299900        "
      ]
     },
     "metadata": {},
     "output_type": "display_data"
    }
   ],
   "source": [
    "datafile2 = read.csv('data/ex1data2.txt', header=FALSE);\n",
    "colnames(datafile2) <- c('Tamaño casa pies cuadrados', 'Numero de habitaciones', 'Precio de casa')\n",
    "head(datafile2) # muestre solo los primeros valores de la tabla"
   ]
  },
  {
   "cell_type": "code",
   "execution_count": null,
   "metadata": {},
   "outputs": [],
   "source": [
    "# calculando regresion lineal\n",
    "regresion2"
   ]
  }
 ],
 "metadata": {
  "kernelspec": {
   "display_name": "R",
   "language": "R",
   "name": "ir"
  },
  "language_info": {
   "codemirror_mode": "r",
   "file_extension": ".r",
   "mimetype": "text/x-r-source",
   "name": "R",
   "pygments_lexer": "r",
   "version": "3.4.2"
  }
 },
 "nbformat": 4,
 "nbformat_minor": 2
}
